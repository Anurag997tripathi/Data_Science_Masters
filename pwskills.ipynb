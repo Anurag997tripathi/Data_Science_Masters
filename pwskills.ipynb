{
 "cells": [
  {
   "cell_type": "code",
   "execution_count": 1,
   "id": "2452726e-871f-40e2-b256-a21d5e42e341",
   "metadata": {},
   "outputs": [
    {
     "name": "stdin",
     "output_type": "stream",
     "text": [
      " anurag\n"
     ]
    },
    {
     "data": {
      "text/plain": [
       "'anurag'"
      ]
     },
     "execution_count": 1,
     "metadata": {},
     "output_type": "execute_result"
    }
   ],
   "source": [
    "input()"
   ]
  },
  {
   "cell_type": "code",
   "execution_count": 4,
   "id": "b893d35d-0b2d-42dd-ada2-02b271be1847",
   "metadata": {},
   "outputs": [
    {
     "name": "stdin",
     "output_type": "stream",
     "text": [
      "enter the colleg name tech vidya\n"
     ]
    }
   ],
   "source": [
    "name=input(\"enter the colleg name\")"
   ]
  },
  {
   "cell_type": "code",
   "execution_count": 5,
   "id": "d932b3b1-7afc-40db-989d-5df82d28f085",
   "metadata": {},
   "outputs": [
    {
     "name": "stdin",
     "output_type": "stream",
     "text": [
      "enter the age 24\n"
     ]
    }
   ],
   "source": [
    "age=int(input(\"enter the age\"))"
   ]
  },
  {
   "cell_type": "code",
   "execution_count": 6,
   "id": "536a39f5-87af-4e38-b7c0-6db03c189686",
   "metadata": {},
   "outputs": [
    {
     "data": {
      "text/plain": [
       "int"
      ]
     },
     "execution_count": 6,
     "metadata": {},
     "output_type": "execute_result"
    }
   ],
   "source": [
    "type(age)"
   ]
  },
  {
   "cell_type": "code",
   "execution_count": 10,
   "id": "57f14688-b293-47c8-a6bd-f31e440af2e5",
   "metadata": {},
   "outputs": [
    {
     "name": "stdin",
     "output_type": "stream",
     "text": [
      "enter the age 24\n"
     ]
    },
    {
     "name": "stdout",
     "output_type": "stream",
     "text": [
      "you are young blood\n"
     ]
    }
   ],
   "source": [
    "age=int(input(\"enter the age\"))\n",
    "if age>=18 and age<=45:\n",
    "   print(\"you are young blood\")"
   ]
  },
  {
   "cell_type": "code",
   "execution_count": 13,
   "id": "15c50044-4297-401d-b2e5-961c2d0d66ac",
   "metadata": {},
   "outputs": [
    {
     "data": {
      "text/plain": [
       "True"
      ]
     },
     "execution_count": 13,
     "metadata": {},
     "output_type": "execute_result"
    }
   ],
   "source": [
    "24>=18"
   ]
  },
  {
   "cell_type": "code",
   "execution_count": 15,
   "id": "a29043e5-71c5-4c50-ae16-fdd843deec0c",
   "metadata": {},
   "outputs": [
    {
     "data": {
      "text/plain": [
       "False"
      ]
     },
     "execution_count": 15,
     "metadata": {},
     "output_type": "execute_result"
    }
   ],
   "source": [
    "24<=18"
   ]
  },
  {
   "cell_type": "code",
   "execution_count": 16,
   "id": "272829f9-4cab-452d-9997-5a9169d8db54",
   "metadata": {},
   "outputs": [
    {
     "name": "stdin",
     "output_type": "stream",
     "text": [
      "enter the age 15\n"
     ]
    },
    {
     "name": "stdout",
     "output_type": "stream",
     "text": [
      "thank you we will let you know\n"
     ]
    }
   ],
   "source": [
    "age=int(input(\"enter the age\"))\n",
    "if age>=18 and age<=45:\n",
    "   print(\"you are young blood\")\n",
    "else:\n",
    "   print(\"thank you we will let you know\")"
   ]
  },
  {
   "cell_type": "code",
   "execution_count": null,
   "id": "3d4ffcde-f3f4-42e3-864f-7c5a6f29d6e8",
   "metadata": {},
   "outputs": [],
   "source": [
    "## mall input the product price\n",
    "## product >1000 rs 20% off \n",
    "## print the product price after removing the discount\n",
    "## product <=1000 rs 30% off\n",
    "## print the product price\n"
   ]
  },
  {
   "cell_type": "code",
   "execution_count": 19,
   "id": "e8201894-2e7b-4894-920e-a2d9d3caa19c",
   "metadata": {},
   "outputs": [
    {
     "name": "stdin",
     "output_type": "stream",
     "text": [
      "enter the price 10000\n"
     ]
    },
    {
     "name": "stdout",
     "output_type": "stream",
     "text": [
      "the price of the product is 8000.0\n"
     ]
    }
   ],
   "source": [
    "product_price=int(input(\"enter the price\"))\n",
    "if   product_price>1000:\n",
    "     print(\"the price of the product is {}\".format(product_price*0.8))\n",
    "else:\n",
    "     print(\"the price of the product is {}\".format(product-price*0.7))     "
   ]
  },
  {
   "cell_type": "code",
   "execution_count": 21,
   "id": "06778729-fe4f-4690-bc26-6b38e6e11b4a",
   "metadata": {},
   "outputs": [
    {
     "data": {
      "text/plain": [
       "2000"
      ]
     },
     "execution_count": 21,
     "metadata": {},
     "output_type": "execute_result"
    }
   ],
   "source": [
    "int((20/100)*10000)"
   ]
  },
  {
   "cell_type": "code",
   "execution_count": null,
   "id": "201c743c-ea10-447f-a488-2ed901a63585",
   "metadata": {},
   "outputs": [],
   "source": []
  }
 ],
 "metadata": {
  "kernelspec": {
   "display_name": "Python 3 (ipykernel)",
   "language": "python",
   "name": "python3"
  },
  "language_info": {
   "codemirror_mode": {
    "name": "ipython",
    "version": 3
   },
   "file_extension": ".py",
   "mimetype": "text/x-python",
   "name": "python",
   "nbconvert_exporter": "python",
   "pygments_lexer": "ipython3",
   "version": "3.10.8"
  }
 },
 "nbformat": 4,
 "nbformat_minor": 5
}
